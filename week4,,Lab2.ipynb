{
 "cells": [
  {
   "cell_type": "code",
   "execution_count": 1,
   "id": "4f2f3d84-7382-431c-8e99-4c698dc9390a",
   "metadata": {},
   "outputs": [
    {
     "name": "stdin",
     "output_type": "stream",
     "text": [
      "Enter registration date (YYYY-MM-DD):  04/03/2025\n",
      "Enter student ID:  20250621\n",
      "Enter student name:  Manraj Singh\n",
      "Enter course name:  Web development $ design (level 5)\\\n"
     ]
    },
    {
     "name": "stdout",
     "output_type": "stream",
     "text": [
      "\n",
      "Student Registration Details:\n",
      "Registration Date: 04/03/2025\n",
      "Student ID: 20250621\n",
      "Student Name: Manraj Singh\n",
      "Course Name: Web development $ design (level 5)\\\n",
      "Unique Registration ID: 50001\n"
     ]
    }
   ],
   "source": [
    "registration_counter = 0  # Global counter to track unique registration IDs\n",
    "\n",
    "def student_registration():\n",
    "    global registration_counter\n",
    "    registration_counter += 1  # Increment counter for unique ID\n",
    "    registration_id = 50000 + registration_counter  # Unique Registration ID\n",
    "    \n",
    "    # Collect student information\n",
    "    registration_date = input(\"Enter registration date (YYYY-MM-DD): \")\n",
    "    student_id = input(\"Enter student ID: \")\n",
    "    student_name = input(\"Enter student name: \")\n",
    "    course_name = input(\"Enter course name: \")\n",
    "    \n",
    "    return registration_date, student_id, student_name, course_name, registration_id\n",
    "\n",
    "# Calling the function and unpacking values\n",
    "date, student_id, student_name, course_name, reg_id = student_registration()\n",
    "\n",
    "# Displaying the collected information\n",
    "print(\"\\nStudent Registration Details:\")\n",
    "print(f\"Registration Date: {date}\")\n",
    "print(f\"Student ID: {student_id}\")\n",
    "print(f\"Student Name: {student_name}\")\n",
    "print(f\"Course Name: {course_name}\")\n",
    "print(f\"Unique Registration ID: {reg_id}\")\n"
   ]
  },
  {
   "cell_type": "code",
   "execution_count": null,
   "id": "4548eefb-4f98-4043-9ac0-ffbd25f3d7a5",
   "metadata": {},
   "outputs": [],
   "source": []
  }
 ],
 "metadata": {
  "kernelspec": {
   "display_name": "Python 3 (ipykernel)",
   "language": "python",
   "name": "python3"
  },
  "language_info": {
   "codemirror_mode": {
    "name": "ipython",
    "version": 3
   },
   "file_extension": ".py",
   "mimetype": "text/x-python",
   "name": "python",
   "nbconvert_exporter": "python",
   "pygments_lexer": "ipython3",
   "version": "3.12.7"
  }
 },
 "nbformat": 4,
 "nbformat_minor": 5
}
